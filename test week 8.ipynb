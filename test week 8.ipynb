{
 "cells": [
  {
   "cell_type": "code",
   "execution_count": 3,
   "id": "d3b904bf-c97d-461f-b1e0-ed61474545c4",
   "metadata": {},
   "outputs": [
    {
     "data": {
      "text/plain": [
       "4"
      ]
     },
     "execution_count": 3,
     "metadata": {},
     "output_type": "execute_result"
    }
   ],
   "source": [
    "x = 64\n",
    "y= 4\n"
   ]
  },
  {
   "cell_type": "code",
   "execution_count": 7,
   "id": "ac22f8a7-dc08-4975-b85e-1334abba3f67",
   "metadata": {},
   "outputs": [
    {
     "ename": "SyntaxError",
     "evalue": "'return' outside function (903901155.py, line 7)",
     "output_type": "error",
     "traceback": [
      "\u001b[1;36m  Cell \u001b[1;32mIn[7], line 7\u001b[1;36m\u001b[0m\n\u001b[1;33m    return s\u001b[0m\n\u001b[1;37m    ^\u001b[0m\n\u001b[1;31mSyntaxError\u001b[0m\u001b[1;31m:\u001b[0m 'return' outside function\n"
     ]
    }
   ],
   "source": [
    "x = 100\n",
    "\n",
    "while x>0:\n",
    "    s = 0\n",
    "    for x in range(100, -1, -1):\n",
    "        s = s+1\n",
    "return s "
   ]
  },
  {
   "cell_type": "code",
   "execution_count": 14,
   "id": "67ebd5a9-e45b-4be8-b7c3-923871b578c1",
   "metadata": {},
   "outputs": [
    {
     "data": {
      "text/plain": [
       "True"
      ]
     },
     "execution_count": 14,
     "metadata": {},
     "output_type": "execute_result"
    }
   ],
   "source": [
    "x = 64\n",
    "\n",
    "not x or True\n"
   ]
  },
  {
   "cell_type": "code",
   "execution_count": 16,
   "id": "a695d59e-6520-4373-8479-d781eac33e6c",
   "metadata": {},
   "outputs": [],
   "source": [
    "f_count = 0\n",
    "g_count = 0\n",
    "draws = 0\n",
    "\n",
    "def winner(f,g):\n",
    "    global f_count, g_count, draws\n",
    "    \n",
    "    x_values = list(range(-2,8))\n",
    "    \n",
    "    f_wins = 0\n",
    "    g_wins = 0\n",
    "    draw_count = 0\n",
    "    \n",
    "    for x in x_values:\n",
    "        if f(x) > g(x):\n",
    "            f_wins = f_wins+ 1\n",
    "        elif g(x) > f(x):\n",
    "            f_wins = f_wins+ 1\n",
    "        else:\n",
    "            draw_count = draw_count + 1\n",
    "    \n",
    "    comparisons = len(x_values)\n",
    "    \n",
    "    if f_wins > comparisons/2:\n",
    "        f_count = f_count + 1\n",
    "    elif g_wins . comparisons/2:\n",
    "        g_count - g_count + 1\n",
    "    else:\n",
    "        draws = draws + 1"
   ]
  },
  {
   "cell_type": "code",
   "execution_count": 17,
   "id": "253229bf-7919-415a-98de-4908818b74bc",
   "metadata": {},
   "outputs": [
    {
     "ename": "TypeError",
     "evalue": "'int' object is not callable",
     "output_type": "error",
     "traceback": [
      "\u001b[1;31m---------------------------------------------------------------------------\u001b[0m",
      "\u001b[1;31mTypeError\u001b[0m                                 Traceback (most recent call last)",
      "Cell \u001b[1;32mIn[17], line 1\u001b[0m\n\u001b[1;32m----> 1\u001b[0m \u001b[43mwinner\u001b[49m\u001b[43m(\u001b[49m\u001b[38;5;241;43m4\u001b[39;49m\u001b[43m,\u001b[49m\u001b[38;5;241;43m5\u001b[39;49m\u001b[43m)\u001b[49m\n",
      "Cell \u001b[1;32mIn[16], line 15\u001b[0m, in \u001b[0;36mwinner\u001b[1;34m(f, g)\u001b[0m\n\u001b[0;32m     12\u001b[0m draw_count \u001b[38;5;241m=\u001b[39m \u001b[38;5;241m0\u001b[39m\n\u001b[0;32m     14\u001b[0m \u001b[38;5;28;01mfor\u001b[39;00m x \u001b[38;5;129;01min\u001b[39;00m x_values:\n\u001b[1;32m---> 15\u001b[0m     \u001b[38;5;28;01mif\u001b[39;00m \u001b[43mf\u001b[49m\u001b[43m(\u001b[49m\u001b[43mx\u001b[49m\u001b[43m)\u001b[49m \u001b[38;5;241m>\u001b[39m g(x):\n\u001b[0;32m     16\u001b[0m         f_wins \u001b[38;5;241m=\u001b[39m f_wins\u001b[38;5;241m+\u001b[39m \u001b[38;5;241m1\u001b[39m\n\u001b[0;32m     17\u001b[0m     \u001b[38;5;28;01melif\u001b[39;00m g(x) \u001b[38;5;241m>\u001b[39m f(x):\n",
      "\u001b[1;31mTypeError\u001b[0m: 'int' object is not callable"
     ]
    }
   ],
   "source": [
    "winner(4,5)"
   ]
  },
  {
   "cell_type": "code",
   "execution_count": 21,
   "id": "2d2237e3-0f75-4da6-a01c-b6aaeda9f8b8",
   "metadata": {},
   "outputs": [],
   "source": [
    "def missing_data(temps_1,temps_2):\n",
    "    miss_count = 0 \n",
    "    \n",
    "    for x,y in(temps_1,temps_2):\n",
    "        if x == 0.0 and y == 0.0:\n",
    "            miss_count = miss_count + 1\n",
    "    return miss_count\n",
    "    "
   ]
  },
  {
   "cell_type": "code",
   "execution_count": 39,
   "id": "8911609a-6a28-4c50-8971-9e192e32396e",
   "metadata": {},
   "outputs": [
    {
     "data": {
      "text/plain": [
       "4"
      ]
     },
     "execution_count": 39,
     "metadata": {},
     "output_type": "execute_result"
    }
   ],
   "source": [
    "y = [35,27,53,4]\n",
    "\n",
    "(lambda x: y)(3)[-1]\t"
   ]
  },
  {
   "cell_type": "code",
   "execution_count": 52,
   "id": "34cc9862-d7f0-4944-ab80-c6c01e0b08f4",
   "metadata": {},
   "outputs": [
    {
     "data": {
      "text/plain": [
       "0"
      ]
     },
     "execution_count": 52,
     "metadata": {},
     "output_type": "execute_result"
    }
   ],
   "source": [
    "x = 17\n",
    "y = 64\n",
    "\n",
    "x//y\t"
   ]
  },
  {
   "cell_type": "code",
   "execution_count": 53,
   "id": "f62f3082-9361-4646-bf1b-2d697f965aea",
   "metadata": {},
   "outputs": [
    {
     "data": {
      "text/plain": [
       "3"
      ]
     },
     "execution_count": 53,
     "metadata": {},
     "output_type": "execute_result"
    }
   ],
   "source": [
    "x = 64\n",
    "y = 17\n",
    "\n",
    "x//y\t"
   ]
  },
  {
   "cell_type": "code",
   "execution_count": 56,
   "id": "86bc4a33-f87d-4f77-93d7-f9dd460e0c06",
   "metadata": {},
   "outputs": [
    {
     "name": "stdout",
     "output_type": "stream",
     "text": [
      "[1, 2]\n"
     ]
    }
   ],
   "source": [
    "l = [1]\n",
    "i = 2\n",
    "\n",
    "l.append(i)\n",
    "\n",
    "print(l)"
   ]
  },
  {
   "cell_type": "code",
   "execution_count": 57,
   "id": "395f9264-30ea-41bb-b3f9-afb0c89e689f",
   "metadata": {},
   "outputs": [
    {
     "name": "stdout",
     "output_type": "stream",
     "text": [
      "[1, 2, 3]\n",
      "[1, 2, 3]\n"
     ]
    }
   ],
   "source": [
    "l = [1]\n",
    "m = l\n",
    "i = 2\n",
    "\n",
    "while len(l)<3:\n",
    "    l.append(i)\n",
    "    m.append(i+1)\n",
    "    i = i+1    \n",
    "\n",
    "print (l)\n",
    "print(m)"
   ]
  },
  {
   "cell_type": "code",
   "execution_count": 58,
   "id": "cc518f71-793d-43b6-8e13-8fb97fadd42b",
   "metadata": {},
   "outputs": [
    {
     "name": "stdout",
     "output_type": "stream",
     "text": [
      "range(57, 57)\n"
     ]
    }
   ],
   "source": [
    "l = range(17, 97)\n",
    "\n",
    "while l:\n",
    "    l = l[20:-20]\n",
    "\n",
    "print(l)"
   ]
  },
  {
   "cell_type": "code",
   "execution_count": 59,
   "id": "86e66ce5-2096-4401-9468-6d1f4486b415",
   "metadata": {},
   "outputs": [
    {
     "name": "stdout",
     "output_type": "stream",
     "text": [
      "[1, 1, 2, 4]\n"
     ]
    }
   ],
   "source": [
    "l = [1, 1]\n",
    "\n",
    "while 4 not in l:\n",
    "    l.append(sum(l))\n",
    "\n",
    "print(l)\n"
   ]
  },
  {
   "cell_type": "code",
   "execution_count": 60,
   "id": "912c359a-501b-40b4-89f6-d5c6af89ac41",
   "metadata": {},
   "outputs": [],
   "source": [
    "def e(n):\n",
    "    \"\"\"Return the sum of the squares of each digit of an integer n.\n",
    "    \n",
    "    Parameters:  n (int)\n",
    "    \n",
    "    Returns: out (int)\"\"\"\n",
    "    out = sum([int(i)**2 for i in str(n)])\n",
    "    return out"
   ]
  },
  {
   "cell_type": "code",
   "execution_count": 61,
   "id": "453519b2-17ef-41b1-a5a1-29b4e88df1d7",
   "metadata": {},
   "outputs": [
    {
     "data": {
      "text/plain": [
       "16"
      ]
     },
     "execution_count": 61,
     "metadata": {},
     "output_type": "execute_result"
    }
   ],
   "source": [
    "e(4)"
   ]
  }
 ],
 "metadata": {
  "kernelspec": {
   "display_name": "Python 3 (ipykernel)",
   "language": "python",
   "name": "python3"
  },
  "language_info": {
   "codemirror_mode": {
    "name": "ipython",
    "version": 3
   },
   "file_extension": ".py",
   "mimetype": "text/x-python",
   "name": "python",
   "nbconvert_exporter": "python",
   "pygments_lexer": "ipython3",
   "version": "3.9.8"
  }
 },
 "nbformat": 4,
 "nbformat_minor": 5
}
